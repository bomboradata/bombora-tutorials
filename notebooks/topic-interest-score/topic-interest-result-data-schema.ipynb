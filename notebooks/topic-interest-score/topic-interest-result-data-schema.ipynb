{
 "cells": [
  {
   "cell_type": "markdown",
   "metadata": {},
   "source": [
    "# Bombora Topic Interest Datasets"
   ]
  },
  {
   "cell_type": "markdown",
   "metadata": {
    "collapsed": true
   },
   "source": [
    "Explaining Bombora topic interest score datasets."
   ]
  },
  {
   "cell_type": "markdown",
   "metadata": {
    "collapsed": true
   },
   "source": [
    "## 0. Surge vs Interest?\n",
    "\n",
    "As a matter of clarification, *topic surge* as a product is generated from *topic interest* models. In technical discussions, we'll refer to both the product and the models by the latter, providing a conceptually more meaningful mapping. Bombora's user-facing topic interest scores (and the origin of the data you currently have) are currently generated from a 3rd party topic interest model and service. As mentioned previously, we are also are developing an internal topic interest model.\n",
    "\n",
    "\n",
    "## 1. End User Datasets  (Overview)\n",
    "\n",
    "In general, down the topic interest line, there exists primarily three datasets that are consumed by end users (ordering from raw to aggregate):\n",
    "\n",
    "1. **Firehose** *(FH)*: the raw content consumption data, which contains event level resolution. Size is thousands of GBs/week, only a handful of clients actually consume this data. Bombora Data Science team refers to this as the *raw event data*.\n",
    "\n",
    "2. **All Domains All Topic** *(ADAT)*: an aggregate topic interest score on keys of interest in the Firehose data. Size is tens of GBs/week. Bombora Data Science team refers to this as the *topic interest score data*. \n",
    "\n",
    "3. **Master Surge** *(MS)*: A filtering and transformation of the *ADAT* dataset to consider only those topic keys whose scores meet some *surge* score criteria (explained below). Size is GBs/week. Bombora Data Science team refer to this as *surging topic interest score data*.\n",
    "\n",
    "While dataset naming convention might be a little confusing, the simple explanation is that the topic interest model ingests *Firehose* data, and outputs both the *ADAT* and *MasterSurge*.\n"
   ]
  },
  {
   "cell_type": "markdown",
   "metadata": {},
   "source": [
    "## 2. End User Dataset (Details)\n",
    "\n",
    "As you're interested in the aggregate topic interest score, we'll only consider ADAT and MasterSurge. While similar, each has their own schema. To understand better, we consider representative topic interest result files for both *ADAT* and *MasterSurge* that are output from the current topic surge batch jobs for the week starting *2016-07-19*:\n",
    "\n",
    "\n"
   ]
  },
  {
   "cell_type": "code",
   "execution_count": 1,
   "metadata": {
    "collapsed": false
   },
   "outputs": [
    {
     "name": "stdout",
     "output_type": "stream",
     "text": [
      "total 5463968\r\n",
      "-rw-------  1 nehalecky  staff   2.4G Jun 28 15:11 Input_AllDomainsAllTopics_20150719.csv.gz\r\n",
      "-rw-------  1 nehalecky  staff   173M Aug 10  2015 Output_MasterSurgeFile_20150719.csv.gz\r\n"
     ]
    }
   ],
   "source": [
    "!ls -lh ../../data/topic-interest-score/"
   ]
  },
  {
   "cell_type": "markdown",
   "metadata": {},
   "source": [
    "To get an idea of record count, count the number of lines in both files"
   ]
  },
  {
   "cell_type": "code",
   "execution_count": 2,
   "metadata": {
    "collapsed": false
   },
   "outputs": [
    {
     "name": "stdout",
     "output_type": "stream",
     "text": [
      " 14521301\r\n"
     ]
    }
   ],
   "source": [
    " !gzip -dc ../../data/topic-interest-score/Output_MasterSurgeFile_20150719.csv.gz | wc -l"
   ]
  },
  {
   "cell_type": "code",
   "execution_count": 3,
   "metadata": {
    "collapsed": false
   },
   "outputs": [
    {
     "name": "stdout",
     "output_type": "stream",
     "text": [
      " 237763799\r\n"
     ]
    }
   ],
   "source": [
    "!gzip -dc ../../data/topic-interest-score/Input_AllDomainsAllTopics_20150719.csv.gz | wc -l"
   ]
  },
  {
   "cell_type": "markdown",
   "metadata": {},
   "source": [
    "As we're interested in understanding the data schema we'll consider a smaller of (non-statistically significant) sample for both files."
   ]
  },
  {
   "cell_type": "code",
   "execution_count": 14,
   "metadata": {
    "collapsed": false
   },
   "outputs": [
    {
     "data": {
      "text/plain": [
       "['Input_AllDomainsAllTopics_20150719.csv.gz',\n",
       " 'Output_MasterSurgeFile_20150719.csv.gz']"
      ]
     },
     "execution_count": 14,
     "metadata": {},
     "output_type": "execute_result"
    }
   ],
   "source": [
    "path_to_data = '../../data/topic-interest-score/'\n",
    "data_files = !ls {path_to_data}\n",
    "data_files"
   ]
  },
  {
   "cell_type": "code",
   "execution_count": 13,
   "metadata": {
    "collapsed": false
   },
   "outputs": [
    {
     "name": "stdout",
     "output_type": "stream",
     "text": [
      "rm -f Input_AllDomainsAllTopics_20150719-sample.csv\n",
      "touch Input_AllDomainsAllTopics_20150719-sample.csv\n",
      "gzip -cd ../../data/topic-interest-score/Input_AllDomainsAllTopics_20150719.csv.gz | head -n 10000 >> Input_AllDomainsAllTopics_20150719-sample.csv\n",
      "gzip: error writing to output: Broken pipe\n",
      "gzip: ../../data/topic-interest-score/Input_AllDomainsAllTopics_20150719.csv.gz: uncompress failed\n",
      "rm -f Output_MasterSurgeFile_20150719-sample.csv\n",
      "touch Output_MasterSurgeFile_20150719-sample.csv\n",
      "gzip -cd ../../data/topic-interest-score/Output_MasterSurgeFile_20150719.csv.gz | head -n 10000 >> Output_MasterSurgeFile_20150719-sample.csv\n",
      "gzip: error writing to output: Broken pipe\n",
      "gzip: ../../data/topic-interest-score/Output_MasterSurgeFile_20150719.csv.gz: uncompress failed\n"
     ]
    }
   ],
   "source": [
    "n = 10000\n",
    "#cl_cmd_args = '{cmd} -n {n} ../sample_data/{data_file} >> {data_file_root}-sample.csv'\n",
    "cl_cmd_args = 'gzip -cd {path_to_data}{data_file} | {cmd} -n {n} >> {data_file_out}'\n",
    "for data_file in data_files:\n",
    "    data_file_out = data_file.strip('.csv.gz') + '-sample.csv'\n",
    "    print('rm -f {data_file_out}'.format(data_file_out=data_file_out))\n",
    "    !rm -f {data_file_out}\n",
    "    print('touch {data_file_out}'.format(data_file_out=data_file_out))\n",
    "    !touch {data_file_out}\n",
    "    final_cl_cmd = cl_cmd_args.format(cmd='head', n=n, \n",
    "                                      path_to_data=path_to_data,\n",
    "                                      data_file=data_file, \n",
    "                                      data_file_out=data_file_out)\n",
    "    print(final_cl_cmd)\n",
    "    !{final_cl_cmd}"
   ]
  },
  {
   "cell_type": "markdown",
   "metadata": {},
   "source": [
    "### ADAT"
   ]
  },
  {
   "cell_type": "markdown",
   "metadata": {},
   "source": [
    "The ADAT file contains topic interest scores across both global and metro resolutions, which are model aggregate values produced at both keys `(domain, topic)`: and `(domain, topic, metro)` keys. Note that \n",
    "\n",
    "The schema of the data is: \n",
    "```\n",
    "Company Name, Domain, Size, Industry, Category, Topic, Composite Score, Bucket Code, Metro Area, Metro Composite Score, Metro Bucket Code, Domain Origin Country\n",
    "```\n",
    "\n",
    "Note that in the schema above, the:\n",
    "\n",
    "- `Composite Score` is the topic interest score from the `(domain, topic)` key.\n",
    "- `Metro Composite Score` is the topic interest score from the `(domain, topic, metro)` key.\n",
    "\n",
    "\n",
    "Additionally, we note that the format of data in the ADAT file topic interest scores a denormalized / flattened schema, as show below"
   ]
  },
  {
   "cell_type": "code",
   "execution_count": 15,
   "metadata": {
    "collapsed": false
   },
   "outputs": [
    {
     "name": "stdout",
     "output_type": "stream",
     "text": [
      ",0-lightower.net,,,accounting,recurring journal entries,53,3131,greater boston area,72,2132,United States\r\n",
      ",0-lightower.net,,,accounting,recurring journal entries,53,3131,,45,3421,United States\r\n",
      ",0-lightower.net,,,accounting,accounting journals entries,49,3421,,52,3141,United States\r\n",
      ",0-lightower.net,,,accounting,intercompany accounting,48,3232,,58,3121,United States\r\n",
      ",0-lightower.net,,,accounting,intercompany accounting,48,3232,greater boston area,25,3232,United States\r\n",
      ",0-lightower.net,,,accounting,accounting,46,3232,greater boston area,44,3232,United States\r\n",
      ",0-lightower.net,,,accounting,accounting,46,3232,,16,8021,United States\r\n",
      ",0-lightower.net,,,accounting,activity-based costing (abc),25,8042,,0,0,United States\r\n",
      ",0-lightower.net,,,accounting,multi-currency accounting,25,8042,,0,0,United States\r\n",
      ",0-lightower.net,,,accounting,credit derivatives,5,8032,,49,3421,United States\r\n",
      ",0-lightower.net,,,ad tech,sell side platform (ssp),37,3422,greater boston area,46,3142,United States\r\n",
      ",0-lightower.net,,,ad tech,online quoting software,15,8032,,0,0,United States\r\n",
      ",0-lightower.net,,,ad tech,marketing email,10,8041,,0,0,United States\r\n",
      ",0-lightower.net,,,ad tech,web beacons,10,8042,,0,0,United States\r\n",
      ",0-lightower.net,,,ad tech,marketing tools,5,8032,greater boston area,25,3232,United States\r\n"
     ]
    }
   ],
   "source": [
    "! head -n 15 Input_AllDomainsAllTopics_20150719-sample.csv"
   ]
  },
  {
   "cell_type": "code",
   "execution_count": 16,
   "metadata": {
    "collapsed": false
   },
   "outputs": [
    {
     "name": "stdout",
     "output_type": "stream",
     "text": [
      ",1stopsale.com,,,it management,it industry,45,3411,greater new york city area,45,3411,United States\r\n",
      ",1stopsale.com,,,it management,innovation,25,3411,,0,0,United States\r\n",
      ",1stopsale.com,,,it management,it spending,25,3421,,0,0,United States\r\n",
      ",1stopsale.com,,,it management,software compliance,25,8042,,0,0,United States\r\n",
      ",1stopsale.com,,,it management,it portfolio management,14,8042,,0,0,United States\r\n",
      ",1stopsale.com,,,it management,it careers,11,8031,,0,0,United States\r\n",
      ",1stopsale.com,,,it management,sustainability,10,8041,,0,0,United States\r\n",
      ",1stopsale.com,,,labor relations,collective bargaining,43,3421,\"orange county, california area\",58,3121,United States\r\n",
      ",1stopsale.com,,,labor relations,collective bargaining,43,3421,greater new york city area,30,8041,United States\r\n",
      ",1stopsale.com,,,labor relations,labor relations,11,8031,,0,0,United States\r\n",
      ",1stopsale.com,,,labor relations,unions,11,8031,,0,0,United States\r\n",
      ",1stopsale.com,,,leadership & strategy,management fundamentals,68,2421,greater new york city area,70,2411,United States\r\n",
      ",1stopsale.com,,,leadership & strategy,human resource management,10,8041,,0,0,United States\r\n",
      ",1stopsale.com,,,leadership & strategy,seniority,10,8041,,0,0,United States\r\n",
      ",1stopsale.com,,,leadership & strategy,workforce management,10,8041,,0,0,United States\r\n"
     ]
    }
   ],
   "source": [
    "! tail -n 15 Input_AllDomainsAllTopics_20150719-sample.csv"
   ]
  },
  {
   "cell_type": "markdown",
   "metadata": {},
   "source": [
    "### Master Surge"
   ]
  },
  {
   "cell_type": "markdown",
   "metadata": {},
   "source": [
    "#### Filter\n",
    "For end users who only wish to consider the *surging* topics—`(domain, topic)` and `(domain, topic, metro)` keys whose topic interest score meet surge criteria (i.e., when score is > 50)—we filter the ADAT dataset to only consider scores greater than 50.\n",
    "\n",
    "#### Transform\n",
    "In producing this filtered result, instead of leaving the schema intact, the 3rd-party also performs a tranformation of the topic interest score(s) representation. The schema is the same intitally, like:\n",
    "\n",
    "```\n",
    "Company Name, Domain, Size, Industry, Category, Topic, Composite Score,\n",
    "```\n",
    "however, the metro resolution scores is now collapsed into an array (of sorts), unique to each `(domain, topic)` key. The metro name and score is formatted as `metro name[metro score]`, and each line can contain multiple results, formatted together like:\n",
    "```\n",
    "metro_1[metro_1 score]|metro_2[metro_2 score]|metro_3[metro_3 score],\n",
    "```\n",
    "and finally, again, ending with the domain origin country, which would collectively look like: \n",
    "\n",
    "```\n",
    "Company Name, Domain, Size, Industry, Category, Topic, Composite Score,vmetro_1[metro_1 score]|metro_2[metro_2 score]|metro_3[metro_3 score], Domain Country Origin\n",
    "```\n",
    "\n",
    "Example output, below:"
   ]
  },
  {
   "cell_type": "code",
   "execution_count": 17,
   "metadata": {
    "collapsed": false
   },
   "outputs": [
    {
     "name": "stdout",
     "output_type": "stream",
     "text": [
      ",0-lightower.net,,,analytics & reporting,workforce analytics,83,greater boston area[77]|[77],United States\r\n",
      ",0-lightower.net,,,benefits,workers' compensation,72,greater boston area[77],United States\r\n",
      ",0-lightower.net,,,business finance,business loans,25,greater boston area[25],United States\r\n",
      ",0-lightower.net,,,business finance,equipment and vehicle financing,25,greater boston area[25],United States\r\n",
      ",0-lightower.net,,,crm,email management software,75,greater boston area[75]|[77],United States\r\n",
      ",0-lightower.net,,,desktop,desktop environment,25,greater boston area[25],United States\r\n",
      ",0-lightower.net,,,device connectivity,wifi,25,greater boston area[25],United States\r\n",
      ",0-lightower.net,,,ecommerce,payment processing,25,greater boston area[25],United States\r\n",
      ",0-lightower.net,,,email marketing,email list management,75,greater boston area[75]|[77],United States\r\n",
      ",0-lightower.net,,,health tech,computerized physician order entry (cpoe),25,[74],United States\r\n",
      ",0-lightower.net,,,hr tech,corporate portals,25,greater boston area[25],United States\r\n",
      ",0-lightower.net,,,it management,email management,75,greater boston area[75]|[77],United States\r\n",
      ",0-lightower.net,,,leadership & strategy,workforce management,80,greater boston area[77]|[43],United States\r\n",
      ",0-lightower.net,,,operating system,operating system,76,greater boston area[82]|greater chicago area[52],United States\r\n",
      ",0-lightower.net,,,operating system,linux,25,greater boston area[25],United States\r\n"
     ]
    }
   ],
   "source": [
    "! head -n 15 Output_MasterSurgeFile_20150719-sample.csv"
   ]
  },
  {
   "cell_type": "code",
   "execution_count": 18,
   "metadata": {
    "collapsed": false
   },
   "outputs": [
    {
     "name": "stdout",
     "output_type": "stream",
     "text": [
      "pja advertising + marketing,agencypja.com,51-200 employees,marketing and advertising,search marketing,internet search,70,greater boston area[79],United States\r\n",
      "pja advertising + marketing,agencypja.com,51-200 employees,marketing and advertising,smartphone,windows phone,92,greater boston area[94],United States\r\n",
      "pja advertising + marketing,agencypja.com,51-200 employees,marketing and advertising,social,reddit,89,greater boston area[88],United States\r\n",
      "pja advertising + marketing,agencypja.com,51-200 employees,marketing and advertising,staff administration,staff management,75,greater boston area[83],United States\r\n",
      "pja advertising + marketing,agencypja.com,51-200 employees,marketing and advertising,staff administration,time management,75,greater boston area[75],United States\r\n",
      "pja advertising + marketing,agencypja.com,51-200 employees,marketing and advertising,staff departure,layoff,86,greater boston area[94],United States\r\n",
      "pja advertising + marketing,agencypja.com,51-200 employees,marketing and advertising,telecommunications,phone call processing,70,greater boston area[70],United States\r\n",
      "pja advertising + marketing,agencypja.com,51-200 employees,marketing and advertising,trading & investing,initial public offering (ipo),87,greater boston area[81],United States\r\n",
      "pja advertising + marketing,agencypja.com,51-200 employees,marketing and advertising,trading & investing,currency futures,83,greater boston area[83],United States\r\n",
      "pja advertising + marketing,agencypja.com,51-200 employees,marketing and advertising,trading & investing,market volatility index (vix),83,greater boston area[83],United States\r\n",
      "pja advertising + marketing,agencypja.com,51-200 employees,marketing and advertising,trading & investing,treasury notes,83,greater boston area[83],United States\r\n",
      "pja advertising + marketing,agencypja.com,51-200 employees,marketing and advertising,trading & investing,foreign-exchange options,80,greater boston area[77],United States\r\n",
      "pja advertising + marketing,agencypja.com,51-200 employees,marketing and advertising,trading & investing,options,80,greater boston area[83],United States\r\n",
      "pja advertising + marketing,agencypja.com,51-200 employees,marketing and advertising,trading & investing,bonds,70,greater boston area[77],United States\r\n",
      "pja advertising + marketing,agencypja.com,51-200 employees,marketing and advertising,training & development,career development,84,greater boston area[79],United States\r\n"
     ]
    }
   ],
   "source": [
    "! tail -n 15 Output_MasterSurgeFile_20150719-sample.csv"
   ]
  },
  {
   "cell_type": "code",
   "execution_count": null,
   "metadata": {
    "collapsed": true
   },
   "outputs": [],
   "source": []
  }
 ],
 "metadata": {
  "kernelspec": {
   "display_name": "Python 3",
   "language": "python",
   "name": "python3"
  },
  "language_info": {
   "codemirror_mode": {
    "name": "ipython",
    "version": 3
   },
   "file_extension": ".py",
   "mimetype": "text/x-python",
   "name": "python",
   "nbconvert_exporter": "python",
   "pygments_lexer": "ipython3",
   "version": "3.5.2"
  }
 },
 "nbformat": 4,
 "nbformat_minor": 0
}
